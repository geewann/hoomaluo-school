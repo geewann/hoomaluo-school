{
 "cells": [
  {
   "cell_type": "markdown",
   "metadata": {},
   "source": [
    "# Unit 1 - Module 3\n",
    "\n",
    "We will continue learning about musical scales. We will introduce a new tuning method that is more commonly used, **equal temperament tuning**. You will get more compfortable working lists and if-statements in Python. We may even start introducing loops.  "
   ]
  },
  {
   "cell_type": "markdown",
   "metadata": {},
   "source": [
    "## Task 1\n",
    "\n",
    "The first task is to do **Activity 1.6** in the textbook. Knowing how equal temperament tuning works, we should write a program that \n",
    "* takes a user input for a base frequency\n",
    "* computes the following 11 notes of the chromatic scale \n",
    "* stores all 12 notes in the correct order (low to high) in a single list "
   ]
  },
  {
   "cell_type": "markdown",
   "metadata": {},
   "source": [
    "### Equal temperament tuning \n",
    "\n",
    "\"The way that you made the *chromatic scale* in Activity 1.5 is called **Pythagorean Tuning**. Instruments like the piano and keybvoard use a chromatic scale that is made in a slightly different way. Instead of Pythagorean tuning, these instruments use **equal temperament tuning**. In equal temperament tuning, the frequency of each note is always a number $\\alpha$ times the last note $f$. So if $f_1$, $f_2$, $f_3$ are the first, second, and third notes, then $f_2=\\alpha f_1$, $f_3 = \\alpha f_2 = \\alpha^2 f_1$. "
   ]
  },
  {
   "cell_type": "markdown",
   "metadata": {},
   "source": [
    "### Pre-Tasks \n",
    "Complete the following tasks in preparation of the actual task. \n",
    "\n",
    "##### Q1 \n",
    "What is the difference between Pythagorean tuning and even temperament tuning? \n",
    "\n",
    "*Type answer here.*"
   ]
  },
  {
   "cell_type": "markdown",
   "metadata": {},
   "source": [
    "##### Q2\n",
    "Write the seventh note, $f_7$ in terms of $\\alpha$ and $f_1$.  \n",
    "\n",
    "*Type answer here.*"
   ]
  },
  {
   "cell_type": "markdown",
   "metadata": {},
   "source": [
    "##### Q3\n",
    "The thirteenth note, $f_{13}$ is $\\alpha^{12}f_1$. This should be the next octave, which means that $f_{13} = \\alpha^{12}f_1 = 2f_1$. What is $\\alpha$?  \n",
    "\n",
    "*Type answer here.*"
   ]
  },
  {
   "cell_type": "markdown",
   "metadata": {},
   "source": [
    "### Actual Task 1\n",
    "Let's write a program that takes a user input (`input()`) and then calculates the chromatic scale using even temperament tuning. Store all twelve notes in a list. Order (`sort()`) the list in the end. \n",
    "\n",
    "Pseudo code: \n",
    "``` pseudo\n",
    "initialize alpha with the value computed derive d in Q3\n",
    "f := get user input \n",
    "f1 := convert f to a float \n",
    "f2 := calculate\n",
    ".\n",
    ". \n",
    ". \n",
    "f12 := calculate \n",
    "scale := create list with all 12 frequencies \n",
    "print the scale\n",
    "```"
   ]
  },
  {
   "cell_type": "code",
   "execution_count": 1,
   "metadata": {},
   "outputs": [
    {
     "name": "stdout",
     "output_type": "stream",
     "text": [
      "[220.0, 233.08188075904496, 246.94165062806206, 261.6255653005987, 277.18263097687213, 293.66476791740763, 311.126983722081, 329.62755691287003, 349.228231433004, 369.9944227116345, 391.99543598174944, 415.3046975799453, 440.00000000000017]\n"
     ]
    }
   ],
   "source": [
    "# define alpha \n",
    "\n",
    "# get input \n",
    "\n",
    "# convert to float \n",
    "\n",
    "\n",
    "# calculate all frequencies and add to the list \n",
    "\n",
    "# scale = [f1, f2, f3, ... , f12]\n",
    "\n",
    "\n",
    "# print scale "
   ]
  },
  {
   "cell_type": "markdown",
   "metadata": {},
   "source": [
    "## Task 2\n",
    "\n",
    "Very good ... let's move on to the next challenge. Now we want to be able to not only print the chromatic scales, but also the major and minor scales, which should be only seven notes (e.g. A, B, C, D, E, F, G in the case of A minor) or eight notes if you include the octave (e.g. A, B, C, D, E, F, G, A). \n",
    "\n",
    "How are we going to go about this? "
   ]
  },
  {
   "cell_type": "markdown",
   "metadata": {},
   "source": [
    "### Pre-Task Questions \n",
    "\n",
    "#### Q1. \n",
    "In the chromatic scale, there are only half steps. How about major and minor scales? \n",
    "\n",
    "*Type answer here.*"
   ]
  },
  {
   "cell_type": "markdown",
   "metadata": {},
   "source": [
    "#### Q2\n",
    "If you have a chromatic scale (13 notes with the octave), which notes do you have to remove to obtain a major scale? \n",
    "Which notes do you need to remove to obtain a minor scale? \n"
   ]
  },
  {
   "cell_type": "markdown",
   "metadata": {},
   "source": [
    "### Actual Task \n",
    "\n",
    "Extend your previous code to now also prompt the user to enter `maj` or `min` to indicate whether the user wants to know the frequencies of major or minor scale respectively. \n",
    "\n",
    "You should use an if-statement to determine if the user wants a major or minor scale. Then based on your if condition, you remove certain notes from your list. \n",
    "\n",
    "To remove elements from a list, you can use the `pop()` command. Into the parenthesis, you will put the index of the item that you want to remove. Note that lists in Python are zero indexed, meaning that the first element has index 0. So if you want to remove the second element, it's index 1. \n",
    "\n",
    "Example: \n",
    "```py\n",
    "myNotes = [220.0, 233.08, 246.94, 261.63, 277.18, 293.66, 311.13, 329.63, 349.23, 369.99, 392.00, 415.30]\n",
    "# remove second note (index 1)\n",
    "print(len(myNotes)\n",
    "print(myNotes)\n",
    "print(myNotes[1])\n",
    "myNotes.pop(1)\n",
    "print(len(myNotes))\n",
    "print(myNotes)\n",
    "print(myNotes[1])\n",
    "```"
   ]
  },
  {
   "cell_type": "markdown",
   "metadata": {},
   "source": [
    "For a major scale, remove: <br>\n",
    "_type anser here_\n",
    "\n",
    "Minor scale, remove: <br>\n",
    "_type answer here_\n"
   ]
  },
  {
   "cell_type": "code",
   "execution_count": 1,
   "metadata": {},
   "outputs": [
    {
     "name": "stdout",
     "output_type": "stream",
     "text": [
      "Enter a frequency: 2\n",
      "Major or minor scale? (maj/min) maj\n"
     ]
    }
   ],
   "source": [
    "# define alpha \n",
    "\n",
    "\n",
    "# define the notes to remove (actual notes here) in a list \n",
    "\n",
    "\n",
    "# get input \n",
    "f = input('Enter a frequency: ')\n",
    "scaleType = input(\"Major or minor scale? (maj/min) \")\n",
    "\n",
    "# convert to float \n",
    "\n",
    "\n",
    "# calculate all frequencies and add to the list (no loops)\n",
    "\n",
    "\n",
    "# if statement based on the scale type \n"
   ]
  },
  {
   "cell_type": "code",
   "execution_count": null,
   "metadata": {},
   "outputs": [],
   "source": []
  }
 ],
 "metadata": {
  "kernelspec": {
   "display_name": "Python 3",
   "language": "python",
   "name": "python3"
  },
  "language_info": {
   "codemirror_mode": {
    "name": "ipython",
    "version": 3
   },
   "file_extension": ".py",
   "mimetype": "text/x-python",
   "name": "python",
   "nbconvert_exporter": "python",
   "pygments_lexer": "ipython3",
   "version": "3.6.5"
  }
 },
 "nbformat": 4,
 "nbformat_minor": 2
}
