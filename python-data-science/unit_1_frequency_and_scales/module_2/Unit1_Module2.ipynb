{
 "cells": [
  {
   "cell_type": "markdown",
   "metadata": {},
   "source": [
    "# Unit 1 - Module 2\n",
    "\n",
    "This is Activity 1.4 from the textbook. We are using Pythagorean tuning to find the 12 notes of a chromatic scale, e.g. between $C_3$ and $C_4$. Given an initial note, $C_3$ we need to multiply it by $2/3$ and $3/2$ and then shift it an octave up or down do be between $C_3$ and $C_4$. "
   ]
  },
  {
   "cell_type": "code",
   "execution_count": 21,
   "metadata": {},
   "outputs": [
    {
     "name": "stdout",
     "output_type": "stream",
     "text": [
      "[220, 330.0, 247.5, 371.25, 278.4375, 417.65625]\n",
      "[220, 293.3333333333333, 391.1111111111111, 260.7407407407407, 347.6543209876543, 231.76954732510285, 309.02606310013715]\n",
      "[220, 220, 231.76954732510285, 247.5, 260.7407407407407, 278.4375, 293.3333333333333, 309.02606310013715, 330.0, 347.6543209876543, 371.25, 391.1111111111111, 417.65625]\n"
     ]
    }
   ],
   "source": [
    "c_3 = 220       # C3 is 220 Hz\n",
    "c_4 = 2 * c_3   # C4 is 440 Hz \n",
    "\n",
    "# create empty lists \n",
    "list_1 = [c_3]\n",
    "list_2 = [c_3] \n",
    "\n",
    "for i in range(1,6): \n",
    "    list_1.append(list_1[i-1] * 3/2)\n",
    "    if list_1[i] > c_4: \n",
    "        list_1[i] = list_1[i] * 1/2\n",
    "    else: \n",
    "        pass\n",
    "\n",
    "for i in range(1,7): \n",
    "    list_2.append(list_2[i-1] * 2/3)\n",
    "    if list_2[i] < c_3: \n",
    "        list_2[i] = list_2[i] * 2\n",
    "    else: \n",
    "        pass\n",
    "\n",
    "print(list_1)\n",
    "print(list_2)"
   ]
  },
  {
   "cell_type": "code",
   "execution_count": 22,
   "metadata": {},
   "outputs": [
    {
     "name": "stdout",
     "output_type": "stream",
     "text": [
      "[220, 220, 231.76954732510285, 247.5, 260.7407407407407, 278.4375, 293.3333333333333, 309.02606310013715, 330.0, 347.6543209876543, 371.25, 391.1111111111111, 417.65625]\n",
      "[220, 231.76954732510285, 247.5, 260.7407407407407, 278.4375, 293.3333333333333, 309.02606310013715, 330.0, 347.6543209876543, 371.25, 391.1111111111111, 417.65625, 440]\n"
     ]
    }
   ],
   "source": [
    "scale = sorted(list_1 + list_2)\n",
    "print(scale)\n",
    "scale.pop(0)\n",
    "scale.append(c_4)\n",
    "print(scale)"
   ]
  },
  {
   "cell_type": "code",
   "execution_count": null,
   "metadata": {},
   "outputs": [],
   "source": []
  }
 ],
 "metadata": {
  "kernelspec": {
   "display_name": "Python 3",
   "language": "python",
   "name": "python3"
  },
  "language_info": {
   "codemirror_mode": {
    "name": "ipython",
    "version": 3
   },
   "file_extension": ".py",
   "mimetype": "text/x-python",
   "name": "python",
   "nbconvert_exporter": "python",
   "pygments_lexer": "ipython3",
   "version": "3.6.5"
  }
 },
 "nbformat": 4,
 "nbformat_minor": 2
}
