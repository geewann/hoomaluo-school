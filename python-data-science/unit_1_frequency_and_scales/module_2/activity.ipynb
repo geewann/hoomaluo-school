{
 "cells": [
  {
   "cell_type": "markdown",
   "metadata": {},
   "source": [
    "# Unit 1 - Module 2 "
   ]
  },
  {
   "cell_type": "code",
   "execution_count": 1,
   "metadata": {},
   "outputs": [
    {
     "name": "stdout",
     "output_type": "stream",
     "text": [
      "330.0\n"
     ]
    }
   ],
   "source": [
    "f = 220.0 # start with A3\n",
    "\n",
    "f1 = f*3/2 \n",
    "print(f1)\n"
   ]
  },
  {
   "cell_type": "code",
   "execution_count": 2,
   "metadata": {},
   "outputs": [
    {
     "name": "stdout",
     "output_type": "stream",
     "text": [
      "495.0\n"
     ]
    }
   ],
   "source": [
    "f2 = f1 * 3/2 \n",
    "print(f2)"
   ]
  },
  {
   "cell_type": "code",
   "execution_count": 3,
   "metadata": {},
   "outputs": [
    {
     "name": "stdout",
     "output_type": "stream",
     "text": [
      "247.5\n"
     ]
    }
   ],
   "source": [
    "if f2 > 440:\n",
    "    f2 = f2 * 2**-1\n",
    "else:\n",
    "    pass\n",
    "print(f2)"
   ]
  },
  {
   "cell_type": "markdown",
   "metadata": {},
   "source": [
    "## task:\n",
    "\n",
    "do the same for f3, f4, f5"
   ]
  },
  {
   "cell_type": "code",
   "execution_count": 4,
   "metadata": {},
   "outputs": [
    {
     "name": "stdout",
     "output_type": "stream",
     "text": [
      "220.0 330.0 247.5 371 278 417\n"
     ]
    }
   ],
   "source": [
    "f3 = 371\n",
    "f4 = 278\n",
    "f5 = 417\n",
    "\n",
    "print(f, f1, f2, f3, f4, f5)"
   ]
  },
  {
   "cell_type": "code",
   "execution_count": 5,
   "metadata": {},
   "outputs": [
    {
     "name": "stdout",
     "output_type": "stream",
     "text": [
      "[220.0, 330.0, 247.5, 371, 278, 417]\n"
     ]
    }
   ],
   "source": [
    "myNotes = [f, f1, f2, f3, f4, f5]\n",
    "print(myNotes)"
   ]
  },
  {
   "cell_type": "code",
   "execution_count": 6,
   "metadata": {},
   "outputs": [
    {
     "data": {
      "text/plain": [
       "[220.0, 247.5, 278, 330.0, 371, 417]"
      ]
     },
     "execution_count": 6,
     "metadata": {},
     "output_type": "execute_result"
    }
   ],
   "source": [
    "sorted(myNotes)\n",
    "print(type(myNotes))"
   ]
  },
  {
   "cell_type": "code",
   "execution_count": 7,
   "metadata": {},
   "outputs": [
    {
     "name": "stdout",
     "output_type": "stream",
     "text": [
      "293.3333333333333\n"
     ]
    }
   ],
   "source": [
    "f6 = f * 2/3\n",
    "if f6 <220:\n",
    "    f6 = f6 * 2**1\n",
    "else: \n",
    "    pass\n",
    "print(f6)"
   ]
  },
  {
   "cell_type": "markdown",
   "metadata": {},
   "source": [
    "# task \n",
    "do same for f7, f8, f9, f10, f11\n",
    "\n",
    "```py\n",
    "tempList = [f6, f7, f8, f9, 10, f11]\n",
    "myNotes = myNotes + tempList\n",
    "myNotes.sort()\n",
    "print(myNotes)\n",
    "```"
   ]
  },
  {
   "cell_type": "code",
   "execution_count": null,
   "metadata": {},
   "outputs": [],
   "source": []
  }
 ],
 "metadata": {
  "kernelspec": {
   "display_name": "Python 3",
   "language": "python",
   "name": "python3"
  },
  "language_info": {
   "codemirror_mode": {
    "name": "ipython",
    "version": 3
   },
   "file_extension": ".py",
   "mimetype": "text/x-python",
   "name": "python",
   "nbconvert_exporter": "python",
   "pygments_lexer": "ipython3",
   "version": "3.6.5"
  }
 },
 "nbformat": 4,
 "nbformat_minor": 2
}
